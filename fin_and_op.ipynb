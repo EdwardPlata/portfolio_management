{
 "cells": [
  {
   "cell_type": "markdown",
   "metadata": {},
   "source": [
    "##### Finance and Optimization"
   ]
  },
  {
   "cell_type": "markdown",
   "metadata": {},
   "source": [
    "- Let's get started with some basic optimization problem and then scale it up!\n",
    "- Click -> [tutorial](https://www.youtube.com/watch?v=cXHvC_FGx24&t=40s&frags=pl%2Cwn) to see where I got the problem from."
   ]
  },
  {
   "cell_type": "markdown",
   "metadata": {},
   "source": [
    "Tools for the job\n",
    "- Numpy\n",
    "- SciPy"
   ]
  },
  {
   "cell_type": "markdown",
   "metadata": {},
   "source": [
    "- $min: x_1 x_4 (x_1+x_2+x_3)+x_3 $\n",
    "- $s.t. x_1x_2x_3x_4 \\geq 25$ \n",
    "- $x_1^2 + x_2^2 + x_3^2 + x_4^2 =40 $\n",
    "- $1 \\leq x_1,x_2,x_3,x_4 \\leq 5$\n",
    "- $x_0 = (1,5,5,1)$ where $x_0 = (x_1,x_2,x_3,x_4)$"
   ]
  },
  {
   "cell_type": "markdown",
   "metadata": {},
   "source": [
    "We have several constraints here so let's translate them into python"
   ]
  },
  {
   "cell_type": "code",
   "execution_count": 1,
   "metadata": {},
   "outputs": [],
   "source": [
    "import numpy as np\n",
    "from scipy.optimize import minimize"
   ]
  },
  {
   "cell_type": "code",
   "execution_count": 2,
   "metadata": {},
   "outputs": [],
   "source": [
    "def goal(x):\n",
    "    #x is a vector\n",
    "    x1 = x[0]\n",
    "    x2 = x[1]\n",
    "    x3 = x[2]\n",
    "    x4 = x[3]\n",
    "    return x1*x4*(x1+x2+x3) + x3 # This is our original objective"
   ]
  },
  {
   "cell_type": "markdown",
   "metadata": {},
   "source": [
    "To change our original constraint\n",
    "- $ x_1x_2x_3x_4 \\geq 25$ to\n",
    "- $x_1x_2x_3x_4-25 \\geq 0 $\n",
    "- $x_1^2 + x_2^2 + x_3^2 + x_4^2 =40 $ to\n",
    "- $x_1^2 + x_2^2 + x_3^2 + x_4^2 -40 = 0 $"
   ]
  },
  {
   "cell_type": "code",
   "execution_count": 3,
   "metadata": {},
   "outputs": [],
   "source": [
    "def constraint_1(x):\n",
    "    return x[0]* x[1]*x[2]*x[3] - 25\n",
    "def constraint_2(x):\n",
    "    const_sum = 40\n",
    "    for i in range(4):\n",
    "        const_sum =  const_sum - x[i]**2\n",
    "    return const_sum"
   ]
  },
  {
   "cell_type": "code",
   "execution_count": 4,
   "metadata": {},
   "outputs": [
    {
     "name": "stdout",
     "output_type": "stream",
     "text": [
      "16\n"
     ]
    }
   ],
   "source": [
    "x_0 = [1,5,5,1]\n",
    "print(goal(x_0))"
   ]
  },
  {
   "cell_type": "code",
   "execution_count": null,
   "metadata": {},
   "outputs": [],
   "source": []
  },
  {
   "cell_type": "code",
   "execution_count": 5,
   "metadata": {},
   "outputs": [],
   "source": [
    "# Time to set up constraints\n",
    "bound = (1,5)\n",
    "bounds = (bound,bound,bound,bound)\n",
    "const_1 = {'type':'ineq','fun':constraint_1}\n",
    "const_2 = {'type':'eq','fun':constraint_2}\n",
    "const = [const_1,const_2]"
   ]
  },
  {
   "cell_type": "code",
   "execution_count": 17,
   "metadata": {},
   "outputs": [],
   "source": [
    "solution = minimize(goal, x_0, method='SLSQP',\n",
    "                   bounds = bounds, constraints= const)"
   ]
  },
  {
   "cell_type": "code",
   "execution_count": 18,
   "metadata": {},
   "outputs": [
    {
     "name": "stdout",
     "output_type": "stream",
     "text": [
      "     fun: 17.01401724563517\n",
      "     jac: array([14.57227015,  1.37940764,  2.37940764,  9.56415057])\n",
      " message: 'Optimization terminated successfully.'\n",
      "    nfev: 30\n",
      "     nit: 5\n",
      "    njev: 5\n",
      "  status: 0\n",
      " success: True\n",
      "       x: array([1.        , 4.7429961 , 3.82115462, 1.37940765])\n"
     ]
    }
   ],
   "source": [
    "print(solution)"
   ]
  },
  {
   "cell_type": "code",
   "execution_count": 8,
   "metadata": {},
   "outputs": [
    {
     "data": {
      "text/plain": [
       "array([1.        , 4.7429961 , 3.82115462, 1.37940765])"
      ]
     },
     "execution_count": 8,
     "metadata": {},
     "output_type": "execute_result"
    }
   ],
   "source": [
    "solution.x"
   ]
  },
  {
   "cell_type": "markdown",
   "metadata": {},
   "source": [
    "#### Basic financial ratios and calculation"
   ]
  },
  {
   "cell_type": "code",
   "execution_count": 28,
   "metadata": {},
   "outputs": [],
   "source": [
    "import quandl\n",
    "import pandas as pd\n",
    "import datetime\n",
    "import plotly_express as px"
   ]
  },
  {
   "cell_type": "code",
   "execution_count": 16,
   "metadata": {},
   "outputs": [],
   "source": [
    "start = datetime.datetime(2007,1,1)\n",
    "end = datetime.datetime(2012,12,31)"
   ]
  },
  {
   "cell_type": "code",
   "execution_count": 21,
   "metadata": {},
   "outputs": [],
   "source": [
    "stock_list = pd.read_csv('https://datahub.io/core/s-and-p-500-companies/r/constituents.csv')"
   ]
  },
  {
   "cell_type": "code",
   "execution_count": 22,
   "metadata": {},
   "outputs": [
    {
     "data": {
      "text/html": [
       "<div>\n",
       "<style scoped>\n",
       "    .dataframe tbody tr th:only-of-type {\n",
       "        vertical-align: middle;\n",
       "    }\n",
       "\n",
       "    .dataframe tbody tr th {\n",
       "        vertical-align: top;\n",
       "    }\n",
       "\n",
       "    .dataframe thead th {\n",
       "        text-align: right;\n",
       "    }\n",
       "</style>\n",
       "<table border=\"1\" class=\"dataframe\">\n",
       "  <thead>\n",
       "    <tr style=\"text-align: right;\">\n",
       "      <th></th>\n",
       "      <th>Symbol</th>\n",
       "      <th>Name</th>\n",
       "      <th>Sector</th>\n",
       "    </tr>\n",
       "  </thead>\n",
       "  <tbody>\n",
       "    <tr>\n",
       "      <th>0</th>\n",
       "      <td>MMM</td>\n",
       "      <td>3M Company</td>\n",
       "      <td>Industrials</td>\n",
       "    </tr>\n",
       "    <tr>\n",
       "      <th>1</th>\n",
       "      <td>AOS</td>\n",
       "      <td>A.O. Smith Corp</td>\n",
       "      <td>Industrials</td>\n",
       "    </tr>\n",
       "    <tr>\n",
       "      <th>2</th>\n",
       "      <td>ABT</td>\n",
       "      <td>Abbott Laboratories</td>\n",
       "      <td>Health Care</td>\n",
       "    </tr>\n",
       "    <tr>\n",
       "      <th>3</th>\n",
       "      <td>ABBV</td>\n",
       "      <td>AbbVie Inc.</td>\n",
       "      <td>Health Care</td>\n",
       "    </tr>\n",
       "    <tr>\n",
       "      <th>4</th>\n",
       "      <td>ACN</td>\n",
       "      <td>Accenture plc</td>\n",
       "      <td>Information Technology</td>\n",
       "    </tr>\n",
       "  </tbody>\n",
       "</table>\n",
       "</div>"
      ],
      "text/plain": [
       "  Symbol                 Name                  Sector\n",
       "0    MMM           3M Company             Industrials\n",
       "1    AOS      A.O. Smith Corp             Industrials\n",
       "2    ABT  Abbott Laboratories             Health Care\n",
       "3   ABBV          AbbVie Inc.             Health Care\n",
       "4    ACN        Accenture plc  Information Technology"
      ]
     },
     "execution_count": 22,
     "metadata": {},
     "output_type": "execute_result"
    }
   ],
   "source": [
    "stock_list.head()"
   ]
  },
  {
   "cell_type": "code",
   "execution_count": 32,
   "metadata": {},
   "outputs": [
    {
     "data": {
      "application/vnd.plotly.v1+json": {
       "config": {
        "linkText": "Export to plot.ly",
        "plotlyServerURL": "https://plot.ly",
        "responsive": true,
        "showLink": false
       },
       "data": [
        {
         "alignmentgroup": "True",
         "hovertemplate": "Sector=%{x}<extra></extra>",
         "legendgroup": "",
         "marker": {
          "color": "#636efa"
         },
         "name": "",
         "offsetgroup": "",
         "orientation": "v",
         "showlegend": false,
         "textposition": "auto",
         "type": "bar",
         "uid": "b5a6d745-9f4a-4c7a-bfb5-fab085c6f63e",
         "x": [
          "Industrials",
          "Industrials",
          "Health Care",
          "Health Care",
          "Information Technology",
          "Information Technology",
          "Industrials",
          "Information Technology",
          "Consumer Discretionary",
          "Information Technology",
          "Utilities",
          "Health Care",
          "Financials",
          "Financials",
          "Health Care",
          "Materials",
          "Information Technology",
          "Industrials",
          "Materials",
          "Real Estate",
          "Health Care",
          "Health Care",
          "Industrials",
          "Health Care",
          "Information Technology",
          "Utilities",
          "Financials",
          "Information Technology",
          "Information Technology",
          "Consumer Staples",
          "Consumer Discretionary",
          "Utilities",
          "Industrials",
          "Utilities",
          "Financials",
          "Financials",
          "Real Estate",
          "Utilities",
          "Financials",
          "Health Care",
          "Industrials",
          "Health Care",
          "Information Technology",
          "Energy",
          "Information Technology",
          "Energy",
          "Information Technology",
          "Health Care",
          "Financials",
          "Energy",
          "Real Estate",
          "Information Technology",
          "Information Technology",
          "Consumer Discretionary",
          "Consumer Staples",
          "Industrials",
          "Financials",
          "Financials",
          "Telecommunication Services",
          "Information Technology",
          "Information Technology",
          "Consumer Discretionary",
          "Real Estate",
          "Materials",
          "Energy",
          "Materials",
          "Financials",
          "Health Care",
          "Financials",
          "Health Care",
          "Financials",
          "Consumer Discretionary",
          "Health Care",
          "Financials",
          "Financials",
          "Industrials",
          "Consumer Discretionary",
          "Consumer Discretionary",
          "Real Estate",
          "Health Care",
          "Financials",
          "Health Care",
          "Information Technology",
          "Consumer Staples",
          "Industrials",
          "Information Technology",
          "Energy",
          "Information Technology",
          "Consumer Staples",
          "Financials",
          "Health Care",
          "Consumer Discretionary",
          "Consumer Discretionary",
          "Industrials",
          "Financials",
          "Real Estate",
          "Consumer Discretionary",
          "Health Care",
          "Health Care",
          "Utilities",
          "Telecommunication Services",
          "Health Care",
          "Materials",
          "Financials",
          "Consumer Discretionary",
          "Energy",
          "Consumer Discretionary",
          "Financials",
          "Consumer Staples",
          "Health Care",
          "Energy",
          "Financials",
          "Industrials",
          "Information Technology",
          "Financials",
          "Financials",
          "Information Technology",
          "Financials",
          "Utilities",
          "Consumer Staples",
          "Information Technology",
          "Consumer Staples",
          "Consumer Discretionary",
          "Financials",
          "Consumer Staples",
          "Energy",
          "Energy",
          "Utilities",
          "Consumer Staples",
          "Information Technology",
          "Consumer Staples",
          "Consumer Staples",
          "Real Estate",
          "Information Technology",
          "Industrials",
          "Industrials",
          "Consumer Staples",
          "Consumer Discretionary",
          "Health Care",
          "Consumer Discretionary",
          "Health Care",
          "Industrials",
          "Industrials",
          "Health Care",
          "Energy",
          "Real Estate",
          "Financials",
          "Consumer Discretionary",
          "Consumer Discretionary",
          "Consumer Discretionary",
          "Consumer Discretionary",
          "Consumer Discretionary",
          "Utilities",
          "Industrials",
          "Materials",
          "Consumer Staples",
          "Utilities",
          "Utilities",
          "Real Estate",
          "Information Technology",
          "Financials",
          "Materials",
          "Industrials",
          "Information Technology",
          "Materials",
          "Utilities",
          "Health Care",
          "Information Technology",
          "Industrials",
          "Utilities",
          "Health Care",
          "Energy",
          "Energy",
          "Industrials",
          "Real Estate",
          "Real Estate",
          "Real Estate",
          "Consumer Staples",
          "Financials",
          "Utilities",
          "Utilities",
          "Consumer Discretionary",
          "Industrials",
          "Health Care",
          "Real Estate",
          "Energy",
          "Information Technology",
          "Information Technology",
          "Industrials",
          "Real Estate",
          "Industrials",
          "Information Technology",
          "Financials",
          "Utilities",
          "Information Technology",
          "Information Technology",
          "Industrials",
          "Industrials",
          "Materials",
          "Consumer Discretionary",
          "Consumer Discretionary",
          "Industrials",
          "Industrials",
          "Financials",
          "Materials",
          "Consumer Discretionary",
          "Consumer Discretionary",
          "Information Technology",
          "Industrials",
          "Industrials",
          "Real Estate",
          "Consumer Staples",
          "Consumer Discretionary",
          "Consumer Discretionary",
          "Health Care",
          "Information Technology",
          "Financials",
          "Consumer Discretionary",
          "Industrials",
          "Energy",
          "Consumer Discretionary",
          "Consumer Discretionary",
          "Information Technology",
          "Financials",
          "Consumer Discretionary",
          "Health Care",
          "Real Estate",
          "Energy",
          "Health Care",
          "Energy",
          "Information Technology",
          "Consumer Discretionary",
          "Health Care",
          "Consumer Discretionary",
          "Industrials",
          "Consumer Staples",
          "Real Estate",
          "Information Technology",
          "Health Care",
          "Financials",
          "Industrials",
          "Health Care",
          "Industrials",
          "Industrials",
          "Health Care",
          "Health Care",
          "Industrials",
          "Information Technology",
          "Financials",
          "Information Technology",
          "Materials",
          "Consumer Discretionary",
          "Materials",
          "Information Technology",
          "Health Care",
          "Financials",
          "Information Technology",
          "Health Care",
          "Real Estate",
          "Industrials",
          "Industrials",
          "Consumer Staples",
          "Health Care",
          "Industrials",
          "Financials",
          "Information Technology",
          "Industrials",
          "Consumer Staples",
          "Financials",
          "Consumer Staples",
          "Real Estate",
          "Energy",
          "Information Technology",
          "Consumer Discretionary",
          "Consumer Staples",
          "Consumer Staples",
          "Consumer Discretionary",
          "Industrials",
          "Health Care",
          "Information Technology",
          "Consumer Discretionary",
          "Consumer Discretionary",
          "Financials",
          "Health Care",
          "Financials",
          "Consumer Discretionary",
          "Industrials",
          "Financials",
          "Consumer Discretionary",
          "Materials",
          "Financials",
          "Real Estate",
          "Consumer Discretionary",
          "Energy",
          "Energy",
          "Consumer Discretionary",
          "Financials",
          "Materials",
          "Industrials",
          "Information Technology",
          "Consumer Discretionary",
          "Consumer Staples",
          "Consumer Discretionary",
          "Health Care",
          "Health Care",
          "Health Care",
          "Financials",
          "Health Care",
          "Consumer Discretionary",
          "Consumer Discretionary",
          "Information Technology",
          "Information Technology",
          "Information Technology",
          "Real Estate",
          "Consumer Discretionary",
          "Consumer Staples",
          "Consumer Staples",
          "Materials",
          "Consumer Staples",
          "Financials",
          "Financials",
          "Information Technology",
          "Health Care",
          "Financials",
          "Energy",
          "Financials",
          "Health Care",
          "Information Technology",
          "Information Technology",
          "Consumer Discretionary",
          "Energy",
          "Materials",
          "Consumer Discretionary",
          "Consumer Discretionary",
          "Utilities",
          "Industrials",
          "Consumer Discretionary",
          "Utilities",
          "Energy",
          "Consumer Discretionary",
          "Industrials",
          "Financials",
          "Industrials",
          "Consumer Discretionary",
          "Utilities",
          "Materials",
          "Information Technology",
          "Consumer Discretionary",
          "Energy",
          "Consumer Discretionary",
          "Energy",
          "Information Technology",
          "Industrials",
          "Materials",
          "Industrials",
          "Information Technology",
          "Information Technology",
          "Industrials",
          "Financials",
          "Consumer Staples",
          "Health Care",
          "Health Care",
          "Health Care",
          "Utilities",
          "Consumer Staples",
          "Energy",
          "Utilities",
          "Energy",
          "Financials",
          "Consumer Discretionary",
          "Materials",
          "Utilities",
          "Materials",
          "Financials",
          "Consumer Staples",
          "Financials",
          "Real Estate",
          "Financials",
          "Utilities",
          "Real Estate",
          "Consumer Discretionary",
          "Consumer Discretionary",
          "Information Technology",
          "Information Technology",
          "Industrials",
          "Health Care",
          "Energy",
          "Financials",
          "Industrials",
          "Real Estate",
          "Information Technology",
          "Real Estate",
          "Health Care",
          "Financials",
          "Industrials",
          "Health Care",
          "Industrials",
          "Industrials",
          "Industrials",
          "Industrials",
          "Consumer Discretionary",
          "Consumer Discretionary",
          "Financials",
          "Information Technology",
          "Real Estate",
          "Utilities",
          "Energy",
          "Information Technology",
          "Materials",
          "Utilities",
          "Materials",
          "Real Estate",
          "Information Technology",
          "Real Estate",
          "Consumer Discretionary",
          "Utilities",
          "Industrials",
          "Consumer Discretionary",
          "Consumer Discretionary",
          "Financials",
          "Industrials",
          "Health Care",
          "Financials",
          "Financials",
          "Information Technology",
          "Financials",
          "Information Technology",
          "Consumer Staples",
          "Financials",
          "Information Technology",
          "Consumer Discretionary",
          "Consumer Discretionary",
          "Information Technology",
          "Energy",
          "Information Technology",
          "Industrials",
          "Financials",
          "Consumer Staples",
          "Health Care",
          "Consumer Staples",
          "Materials",
          "Financials",
          "Consumer Discretionary",
          "Health Care",
          "Consumer Discretionary",
          "Consumer Discretionary",
          "Consumer Discretionary",
          "Financials",
          "Information Technology",
          "Consumer Discretionary",
          "Industrials",
          "Consumer Discretionary",
          "Consumer Discretionary",
          "Consumer Discretionary",
          "Consumer Staples",
          "Financials",
          "Real Estate",
          "Consumer Discretionary",
          "Consumer Discretionary",
          "Consumer Discretionary",
          "Industrials",
          "Industrials",
          "Health Care",
          "Industrials",
          "Industrials",
          "Industrials",
          "Health Care",
          "Financials",
          "Consumer Discretionary",
          "Energy",
          "Health Care",
          "Real Estate",
          "Information Technology",
          "Industrials",
          "Telecommunication Services",
          "Health Care",
          "Consumer Discretionary",
          "Information Technology",
          "Real Estate",
          "Materials",
          "Consumer Staples",
          "Consumer Staples",
          "Industrials",
          "Health Care",
          "Utilities",
          "Financials",
          "Real Estate",
          "Information Technology",
          "Information Technology",
          "Materials",
          "Real Estate",
          "Consumer Discretionary",
          "Energy",
          "Financials",
          "Consumer Discretionary",
          "Consumer Discretionary",
          "Utilities",
          "Information Technology",
          "Information Technology",
          "Financials",
          "Industrials",
          "Consumer Discretionary",
          "Health Care",
          "Financials",
          "Health Care"
         ],
         "xaxis": "x",
         "yaxis": "y"
        }
       ],
       "layout": {
        "barmode": "relative",
        "grid": {
         "xaxes": [
          "x"
         ],
         "xgap": 0.1,
         "xside": "bottom",
         "yaxes": [
          "y"
         ],
         "ygap": 0.1,
         "yside": "left"
        },
        "height": 600,
        "legend": {
         "tracegroupgap": 0
        },
        "margin": {
         "t": 60
        },
        "template": {
         "data": {
          "bar": [
           {
            "marker": {
             "line": {
              "color": "#E5ECF6",
              "width": 0.5
             }
            },
            "type": "bar"
           }
          ],
          "barpolar": [
           {
            "marker": {
             "line": {
              "color": "#E5ECF6",
              "width": 0.5
             }
            },
            "type": "barpolar"
           }
          ],
          "carpet": [
           {
            "aaxis": {
             "endlinecolor": "#2a3f5f",
             "gridcolor": "white",
             "linecolor": "white",
             "minorgridcolor": "white",
             "startlinecolor": "#2a3f5f"
            },
            "baxis": {
             "endlinecolor": "#2a3f5f",
             "gridcolor": "white",
             "linecolor": "white",
             "minorgridcolor": "white",
             "startlinecolor": "#2a3f5f"
            },
            "type": "carpet"
           }
          ],
          "choropleth": [
           {
            "colorbar": {
             "outlinewidth": 0,
             "ticks": ""
            },
            "type": "choropleth"
           }
          ],
          "contour": [
           {
            "autocolorscale": true,
            "colorbar": {
             "outlinewidth": 0,
             "ticks": ""
            },
            "type": "contour"
           }
          ],
          "contourcarpet": [
           {
            "colorbar": {
             "outlinewidth": 0,
             "ticks": ""
            },
            "type": "contourcarpet"
           }
          ],
          "heatmap": [
           {
            "autocolorscale": true,
            "colorbar": {
             "outlinewidth": 0,
             "ticks": ""
            },
            "type": "heatmap"
           }
          ],
          "heatmapgl": [
           {
            "colorbar": {
             "outlinewidth": 0,
             "ticks": ""
            },
            "type": "heatmapgl"
           }
          ],
          "histogram": [
           {
            "marker": {
             "colorbar": {
              "outlinewidth": 0,
              "ticks": ""
             }
            },
            "type": "histogram"
           }
          ],
          "histogram2d": [
           {
            "autocolorscale": true,
            "colorbar": {
             "outlinewidth": 0,
             "ticks": ""
            },
            "type": "histogram2d"
           }
          ],
          "histogram2dcontour": [
           {
            "autocolorscale": true,
            "colorbar": {
             "outlinewidth": 0,
             "ticks": ""
            },
            "type": "histogram2dcontour"
           }
          ],
          "mesh3d": [
           {
            "colorbar": {
             "outlinewidth": 0,
             "ticks": ""
            },
            "type": "mesh3d"
           }
          ],
          "parcoords": [
           {
            "line": {
             "colorbar": {
              "outlinewidth": 0,
              "ticks": ""
             }
            },
            "type": "parcoords"
           }
          ],
          "scatter": [
           {
            "marker": {
             "colorbar": {
              "outlinewidth": 0,
              "ticks": ""
             }
            },
            "type": "scatter"
           }
          ],
          "scatter3d": [
           {
            "marker": {
             "colorbar": {
              "outlinewidth": 0,
              "ticks": ""
             }
            },
            "type": "scatter3d"
           }
          ],
          "scattercarpet": [
           {
            "marker": {
             "colorbar": {
              "outlinewidth": 0,
              "ticks": ""
             }
            },
            "type": "scattercarpet"
           }
          ],
          "scattergeo": [
           {
            "marker": {
             "colorbar": {
              "outlinewidth": 0,
              "ticks": ""
             }
            },
            "type": "scattergeo"
           }
          ],
          "scattergl": [
           {
            "marker": {
             "colorbar": {
              "outlinewidth": 0,
              "ticks": ""
             }
            },
            "type": "scattergl"
           }
          ],
          "scattermapbox": [
           {
            "marker": {
             "colorbar": {
              "outlinewidth": 0,
              "ticks": ""
             }
            },
            "type": "scattermapbox"
           }
          ],
          "scatterpolar": [
           {
            "marker": {
             "colorbar": {
              "outlinewidth": 0,
              "ticks": ""
             }
            },
            "type": "scatterpolar"
           }
          ],
          "scatterpolargl": [
           {
            "marker": {
             "colorbar": {
              "outlinewidth": 0,
              "ticks": ""
             }
            },
            "type": "scatterpolargl"
           }
          ],
          "scatterternary": [
           {
            "marker": {
             "colorbar": {
              "outlinewidth": 0,
              "ticks": ""
             }
            },
            "type": "scatterternary"
           }
          ],
          "surface": [
           {
            "colorbar": {
             "outlinewidth": 0,
             "ticks": ""
            },
            "type": "surface"
           }
          ],
          "table": [
           {
            "cells": {
             "fill": {
              "color": "#EBF0F8"
             },
             "line": {
              "color": "white"
             }
            },
            "header": {
             "fill": {
              "color": "#C8D4E3"
             },
             "line": {
              "color": "white"
             }
            },
            "type": "table"
           }
          ]
         },
         "layout": {
          "annotationdefaults": {
           "arrowcolor": "#506784",
           "arrowhead": 0,
           "arrowwidth": 1
          },
          "colorscale": {
           "diverging": [
            [
             0,
             "#8e0152"
            ],
            [
             0.1,
             "#c51b7d"
            ],
            [
             0.2,
             "#de77ae"
            ],
            [
             0.3,
             "#f1b6da"
            ],
            [
             0.4,
             "#fde0ef"
            ],
            [
             0.5,
             "#f7f7f7"
            ],
            [
             0.6,
             "#e6f5d0"
            ],
            [
             0.7,
             "#b8e186"
            ],
            [
             0.8,
             "#7fbc41"
            ],
            [
             0.9,
             "#4d9221"
            ],
            [
             1,
             "#276419"
            ]
           ],
           "sequential": [
            [
             0,
             "#0508b8"
            ],
            [
             0.0893854748603352,
             "#1910d8"
            ],
            [
             0.1787709497206704,
             "#3c19f0"
            ],
            [
             0.2681564245810056,
             "#6b1cfb"
            ],
            [
             0.3575418994413408,
             "#981cfd"
            ],
            [
             0.44692737430167595,
             "#bf1cfd"
            ],
            [
             0.5363128491620112,
             "#dd2bfd"
            ],
            [
             0.6256983240223464,
             "#f246fe"
            ],
            [
             0.7150837988826816,
             "#fc67fd"
            ],
            [
             0.8044692737430168,
             "#fe88fc"
            ],
            [
             0.8938547486033519,
             "#fea5fd"
            ],
            [
             0.9832402234636871,
             "#febefe"
            ],
            [
             1,
             "#fec3fe"
            ]
           ],
           "sequentialminus": [
            [
             0,
             "#0508b8"
            ],
            [
             0.0893854748603352,
             "#1910d8"
            ],
            [
             0.1787709497206704,
             "#3c19f0"
            ],
            [
             0.2681564245810056,
             "#6b1cfb"
            ],
            [
             0.3575418994413408,
             "#981cfd"
            ],
            [
             0.44692737430167595,
             "#bf1cfd"
            ],
            [
             0.5363128491620112,
             "#dd2bfd"
            ],
            [
             0.6256983240223464,
             "#f246fe"
            ],
            [
             0.7150837988826816,
             "#fc67fd"
            ],
            [
             0.8044692737430168,
             "#fe88fc"
            ],
            [
             0.8938547486033519,
             "#fea5fd"
            ],
            [
             0.9832402234636871,
             "#febefe"
            ],
            [
             1,
             "#fec3fe"
            ]
           ]
          },
          "colorway": [
           "#636efa",
           "#EF553B",
           "#00cc96",
           "#ab63fa",
           "#19d3f3",
           "#e763fa",
           "#FECB52",
           "#FFA15A",
           "#FF6692",
           "#B6E880"
          ],
          "font": {
           "color": "#2a3f5f"
          },
          "geo": {
           "bgcolor": "white",
           "lakecolor": "white",
           "landcolor": "#E5ECF6",
           "showlakes": true,
           "showland": true,
           "subunitcolor": "white"
          },
          "hoverlabel": {
           "align": "left"
          },
          "hovermode": "closest",
          "mapbox": {
           "style": "light"
          },
          "paper_bgcolor": "white",
          "plot_bgcolor": "#E5ECF6",
          "polar": {
           "angularaxis": {
            "gridcolor": "white",
            "linecolor": "white",
            "ticks": ""
           },
           "bgcolor": "#E5ECF6",
           "radialaxis": {
            "gridcolor": "white",
            "linecolor": "white",
            "ticks": ""
           }
          },
          "scene": {
           "xaxis": {
            "backgroundcolor": "#E5ECF6",
            "gridcolor": "white",
            "gridwidth": 2,
            "linecolor": "white",
            "showbackground": true,
            "ticks": "",
            "zerolinecolor": "white"
           },
           "yaxis": {
            "backgroundcolor": "#E5ECF6",
            "gridcolor": "white",
            "gridwidth": 2,
            "linecolor": "white",
            "showbackground": true,
            "ticks": "",
            "zerolinecolor": "white"
           },
           "zaxis": {
            "backgroundcolor": "#E5ECF6",
            "gridcolor": "white",
            "gridwidth": 2,
            "linecolor": "white",
            "showbackground": true,
            "ticks": "",
            "zerolinecolor": "white"
           }
          },
          "shapedefaults": {
           "fillcolor": "#506784",
           "line": {
            "width": 0
           },
           "opacity": 0.4
          },
          "ternary": {
           "aaxis": {
            "gridcolor": "white",
            "linecolor": "white",
            "ticks": ""
           },
           "baxis": {
            "gridcolor": "white",
            "linecolor": "white",
            "ticks": ""
           },
           "bgcolor": "#E5ECF6",
           "caxis": {
            "gridcolor": "white",
            "linecolor": "white",
            "ticks": ""
           }
          },
          "title": {
           "x": 0.05
          },
          "xaxis": {
           "automargin": true,
           "gridcolor": "white",
           "linecolor": "white",
           "ticks": "",
           "zerolinecolor": "white",
           "zerolinewidth": 2
          },
          "yaxis": {
           "automargin": true,
           "gridcolor": "white",
           "linecolor": "white",
           "ticks": "",
           "zerolinecolor": "white",
           "zerolinewidth": 2
          }
         }
        },
        "xaxis": {
         "title": {
          "text": "Sector"
         }
        }
       }
      },
      "text/html": [
       "<div>\n",
       "        \n",
       "        \n",
       "            <div id=\"adcc17ae-33d4-4748-88a9-a0178f1866b8\" class=\"plotly-graph-div\" style=\"height:600px; width:100%;\"></div>\n",
       "            <script type=\"text/javascript\">\n",
       "                require([\"plotly\"], function(Plotly) {\n",
       "                    window.PLOTLYENV=window.PLOTLYENV || {};\n",
       "                    window.PLOTLYENV.BASE_URL='https://plot.ly';\n",
       "                    \n",
       "                if (document.getElementById(\"adcc17ae-33d4-4748-88a9-a0178f1866b8\")) {\n",
       "                    Plotly.newPlot(\n",
       "                        'adcc17ae-33d4-4748-88a9-a0178f1866b8',\n",
       "                        [{\"alignmentgroup\": \"True\", \"hovertemplate\": \"Sector=%{x}<extra></extra>\", \"legendgroup\": \"\", \"marker\": {\"color\": \"#636efa\"}, \"name\": \"\", \"offsetgroup\": \"\", \"orientation\": \"v\", \"showlegend\": false, \"textposition\": \"auto\", \"type\": \"bar\", \"uid\": \"8f8db49a-b4c7-439e-a629-dac0e027f0f8\", \"x\": [\"Industrials\", \"Industrials\", \"Health Care\", \"Health Care\", \"Information Technology\", \"Information Technology\", \"Industrials\", \"Information Technology\", \"Consumer Discretionary\", \"Information Technology\", \"Utilities\", \"Health Care\", \"Financials\", \"Financials\", \"Health Care\", \"Materials\", \"Information Technology\", \"Industrials\", \"Materials\", \"Real Estate\", \"Health Care\", \"Health Care\", \"Industrials\", \"Health Care\", \"Information Technology\", \"Utilities\", \"Financials\", \"Information Technology\", \"Information Technology\", \"Consumer Staples\", \"Consumer Discretionary\", \"Utilities\", \"Industrials\", \"Utilities\", \"Financials\", \"Financials\", \"Real Estate\", \"Utilities\", \"Financials\", \"Health Care\", \"Industrials\", \"Health Care\", \"Information Technology\", \"Energy\", \"Information Technology\", \"Energy\", \"Information Technology\", \"Health Care\", \"Financials\", \"Energy\", \"Real Estate\", \"Information Technology\", \"Information Technology\", \"Consumer Discretionary\", \"Consumer Staples\", \"Industrials\", \"Financials\", \"Financials\", \"Telecommunication Services\", \"Information Technology\", \"Information Technology\", \"Consumer Discretionary\", \"Real Estate\", \"Materials\", \"Energy\", \"Materials\", \"Financials\", \"Health Care\", \"Financials\", \"Health Care\", \"Financials\", \"Consumer Discretionary\", \"Health Care\", \"Financials\", \"Financials\", \"Industrials\", \"Consumer Discretionary\", \"Consumer Discretionary\", \"Real Estate\", \"Health Care\", \"Financials\", \"Health Care\", \"Information Technology\", \"Consumer Staples\", \"Industrials\", \"Information Technology\", \"Energy\", \"Information Technology\", \"Consumer Staples\", \"Financials\", \"Health Care\", \"Consumer Discretionary\", \"Consumer Discretionary\", \"Industrials\", \"Financials\", \"Real Estate\", \"Consumer Discretionary\", \"Health Care\", \"Health Care\", \"Utilities\", \"Telecommunication Services\", \"Health Care\", \"Materials\", \"Financials\", \"Consumer Discretionary\", \"Energy\", \"Consumer Discretionary\", \"Financials\", \"Consumer Staples\", \"Health Care\", \"Energy\", \"Financials\", \"Industrials\", \"Information Technology\", \"Financials\", \"Financials\", \"Information Technology\", \"Financials\", \"Utilities\", \"Consumer Staples\", \"Information Technology\", \"Consumer Staples\", \"Consumer Discretionary\", \"Financials\", \"Consumer Staples\", \"Energy\", \"Energy\", \"Utilities\", \"Consumer Staples\", \"Information Technology\", \"Consumer Staples\", \"Consumer Staples\", \"Real Estate\", \"Information Technology\", \"Industrials\", \"Industrials\", \"Consumer Staples\", \"Consumer Discretionary\", \"Health Care\", \"Consumer Discretionary\", \"Health Care\", \"Industrials\", \"Industrials\", \"Health Care\", \"Energy\", \"Real Estate\", \"Financials\", \"Consumer Discretionary\", \"Consumer Discretionary\", \"Consumer Discretionary\", \"Consumer Discretionary\", \"Consumer Discretionary\", \"Utilities\", \"Industrials\", \"Materials\", \"Consumer Staples\", \"Utilities\", \"Utilities\", \"Real Estate\", \"Information Technology\", \"Financials\", \"Materials\", \"Industrials\", \"Information Technology\", \"Materials\", \"Utilities\", \"Health Care\", \"Information Technology\", \"Industrials\", \"Utilities\", \"Health Care\", \"Energy\", \"Energy\", \"Industrials\", \"Real Estate\", \"Real Estate\", \"Real Estate\", \"Consumer Staples\", \"Financials\", \"Utilities\", \"Utilities\", \"Consumer Discretionary\", \"Industrials\", \"Health Care\", \"Real Estate\", \"Energy\", \"Information Technology\", \"Information Technology\", \"Industrials\", \"Real Estate\", \"Industrials\", \"Information Technology\", \"Financials\", \"Utilities\", \"Information Technology\", \"Information Technology\", \"Industrials\", \"Industrials\", \"Materials\", \"Consumer Discretionary\", \"Consumer Discretionary\", \"Industrials\", \"Industrials\", \"Financials\", \"Materials\", \"Consumer Discretionary\", \"Consumer Discretionary\", \"Information Technology\", \"Industrials\", \"Industrials\", \"Real Estate\", \"Consumer Staples\", \"Consumer Discretionary\", \"Consumer Discretionary\", \"Health Care\", \"Information Technology\", \"Financials\", \"Consumer Discretionary\", \"Industrials\", \"Energy\", \"Consumer Discretionary\", \"Consumer Discretionary\", \"Information Technology\", \"Financials\", \"Consumer Discretionary\", \"Health Care\", \"Real Estate\", \"Energy\", \"Health Care\", \"Energy\", \"Information Technology\", \"Consumer Discretionary\", \"Health Care\", \"Consumer Discretionary\", \"Industrials\", \"Consumer Staples\", \"Real Estate\", \"Information Technology\", \"Health Care\", \"Financials\", \"Industrials\", \"Health Care\", \"Industrials\", \"Industrials\", \"Health Care\", \"Health Care\", \"Industrials\", \"Information Technology\", \"Financials\", \"Information Technology\", \"Materials\", \"Consumer Discretionary\", \"Materials\", \"Information Technology\", \"Health Care\", \"Financials\", \"Information Technology\", \"Health Care\", \"Real Estate\", \"Industrials\", \"Industrials\", \"Consumer Staples\", \"Health Care\", \"Industrials\", \"Financials\", \"Information Technology\", \"Industrials\", \"Consumer Staples\", \"Financials\", \"Consumer Staples\", \"Real Estate\", \"Energy\", \"Information Technology\", \"Consumer Discretionary\", \"Consumer Staples\", \"Consumer Staples\", \"Consumer Discretionary\", \"Industrials\", \"Health Care\", \"Information Technology\", \"Consumer Discretionary\", \"Consumer Discretionary\", \"Financials\", \"Health Care\", \"Financials\", \"Consumer Discretionary\", \"Industrials\", \"Financials\", \"Consumer Discretionary\", \"Materials\", \"Financials\", \"Real Estate\", \"Consumer Discretionary\", \"Energy\", \"Energy\", \"Consumer Discretionary\", \"Financials\", \"Materials\", \"Industrials\", \"Information Technology\", \"Consumer Discretionary\", \"Consumer Staples\", \"Consumer Discretionary\", \"Health Care\", \"Health Care\", \"Health Care\", \"Financials\", \"Health Care\", \"Consumer Discretionary\", \"Consumer Discretionary\", \"Information Technology\", \"Information Technology\", \"Information Technology\", \"Real Estate\", \"Consumer Discretionary\", \"Consumer Staples\", \"Consumer Staples\", \"Materials\", \"Consumer Staples\", \"Financials\", \"Financials\", \"Information Technology\", \"Health Care\", \"Financials\", \"Energy\", \"Financials\", \"Health Care\", \"Information Technology\", \"Information Technology\", \"Consumer Discretionary\", \"Energy\", \"Materials\", \"Consumer Discretionary\", \"Consumer Discretionary\", \"Utilities\", \"Industrials\", \"Consumer Discretionary\", \"Utilities\", \"Energy\", \"Consumer Discretionary\", \"Industrials\", \"Financials\", \"Industrials\", \"Consumer Discretionary\", \"Utilities\", \"Materials\", \"Information Technology\", \"Consumer Discretionary\", \"Energy\", \"Consumer Discretionary\", \"Energy\", \"Information Technology\", \"Industrials\", \"Materials\", \"Industrials\", \"Information Technology\", \"Information Technology\", \"Industrials\", \"Financials\", \"Consumer Staples\", \"Health Care\", \"Health Care\", \"Health Care\", \"Utilities\", \"Consumer Staples\", \"Energy\", \"Utilities\", \"Energy\", \"Financials\", \"Consumer Discretionary\", \"Materials\", \"Utilities\", \"Materials\", \"Financials\", \"Consumer Staples\", \"Financials\", \"Real Estate\", \"Financials\", \"Utilities\", \"Real Estate\", \"Consumer Discretionary\", \"Consumer Discretionary\", \"Information Technology\", \"Information Technology\", \"Industrials\", \"Health Care\", \"Energy\", \"Financials\", \"Industrials\", \"Real Estate\", \"Information Technology\", \"Real Estate\", \"Health Care\", \"Financials\", \"Industrials\", \"Health Care\", \"Industrials\", \"Industrials\", \"Industrials\", \"Industrials\", \"Consumer Discretionary\", \"Consumer Discretionary\", \"Financials\", \"Information Technology\", \"Real Estate\", \"Utilities\", \"Energy\", \"Information Technology\", \"Materials\", \"Utilities\", \"Materials\", \"Real Estate\", \"Information Technology\", \"Real Estate\", \"Consumer Discretionary\", \"Utilities\", \"Industrials\", \"Consumer Discretionary\", \"Consumer Discretionary\", \"Financials\", \"Industrials\", \"Health Care\", \"Financials\", \"Financials\", \"Information Technology\", \"Financials\", \"Information Technology\", \"Consumer Staples\", \"Financials\", \"Information Technology\", \"Consumer Discretionary\", \"Consumer Discretionary\", \"Information Technology\", \"Energy\", \"Information Technology\", \"Industrials\", \"Financials\", \"Consumer Staples\", \"Health Care\", \"Consumer Staples\", \"Materials\", \"Financials\", \"Consumer Discretionary\", \"Health Care\", \"Consumer Discretionary\", \"Consumer Discretionary\", \"Consumer Discretionary\", \"Financials\", \"Information Technology\", \"Consumer Discretionary\", \"Industrials\", \"Consumer Discretionary\", \"Consumer Discretionary\", \"Consumer Discretionary\", \"Consumer Staples\", \"Financials\", \"Real Estate\", \"Consumer Discretionary\", \"Consumer Discretionary\", \"Consumer Discretionary\", \"Industrials\", \"Industrials\", \"Health Care\", \"Industrials\", \"Industrials\", \"Industrials\", \"Health Care\", \"Financials\", \"Consumer Discretionary\", \"Energy\", \"Health Care\", \"Real Estate\", \"Information Technology\", \"Industrials\", \"Telecommunication Services\", \"Health Care\", \"Consumer Discretionary\", \"Information Technology\", \"Real Estate\", \"Materials\", \"Consumer Staples\", \"Consumer Staples\", \"Industrials\", \"Health Care\", \"Utilities\", \"Financials\", \"Real Estate\", \"Information Technology\", \"Information Technology\", \"Materials\", \"Real Estate\", \"Consumer Discretionary\", \"Energy\", \"Financials\", \"Consumer Discretionary\", \"Consumer Discretionary\", \"Utilities\", \"Information Technology\", \"Information Technology\", \"Financials\", \"Industrials\", \"Consumer Discretionary\", \"Health Care\", \"Financials\", \"Health Care\"], \"xaxis\": \"x\", \"yaxis\": \"y\"}],\n",
       "                        {\"barmode\": \"relative\", \"grid\": {\"xaxes\": [\"x\"], \"xgap\": 0.1, \"xside\": \"bottom\", \"yaxes\": [\"y\"], \"ygap\": 0.1, \"yside\": \"left\"}, \"height\": 600, \"legend\": {\"tracegroupgap\": 0}, \"margin\": {\"t\": 60}, \"template\": {\"data\": {\"bar\": [{\"marker\": {\"line\": {\"color\": \"#E5ECF6\", \"width\": 0.5}}, \"type\": \"bar\"}], \"barpolar\": [{\"marker\": {\"line\": {\"color\": \"#E5ECF6\", \"width\": 0.5}}, \"type\": \"barpolar\"}], \"carpet\": [{\"aaxis\": {\"endlinecolor\": \"#2a3f5f\", \"gridcolor\": \"white\", \"linecolor\": \"white\", \"minorgridcolor\": \"white\", \"startlinecolor\": \"#2a3f5f\"}, \"baxis\": {\"endlinecolor\": \"#2a3f5f\", \"gridcolor\": \"white\", \"linecolor\": \"white\", \"minorgridcolor\": \"white\", \"startlinecolor\": \"#2a3f5f\"}, \"type\": \"carpet\"}], \"choropleth\": [{\"colorbar\": {\"outlinewidth\": 0, \"ticks\": \"\"}, \"type\": \"choropleth\"}], \"contour\": [{\"autocolorscale\": true, \"colorbar\": {\"outlinewidth\": 0, \"ticks\": \"\"}, \"type\": \"contour\"}], \"contourcarpet\": [{\"colorbar\": {\"outlinewidth\": 0, \"ticks\": \"\"}, \"type\": \"contourcarpet\"}], \"heatmap\": [{\"autocolorscale\": true, \"colorbar\": {\"outlinewidth\": 0, \"ticks\": \"\"}, \"type\": \"heatmap\"}], \"heatmapgl\": [{\"colorbar\": {\"outlinewidth\": 0, \"ticks\": \"\"}, \"type\": \"heatmapgl\"}], \"histogram\": [{\"marker\": {\"colorbar\": {\"outlinewidth\": 0, \"ticks\": \"\"}}, \"type\": \"histogram\"}], \"histogram2d\": [{\"autocolorscale\": true, \"colorbar\": {\"outlinewidth\": 0, \"ticks\": \"\"}, \"type\": \"histogram2d\"}], \"histogram2dcontour\": [{\"autocolorscale\": true, \"colorbar\": {\"outlinewidth\": 0, \"ticks\": \"\"}, \"type\": \"histogram2dcontour\"}], \"mesh3d\": [{\"colorbar\": {\"outlinewidth\": 0, \"ticks\": \"\"}, \"type\": \"mesh3d\"}], \"parcoords\": [{\"line\": {\"colorbar\": {\"outlinewidth\": 0, \"ticks\": \"\"}}, \"type\": \"parcoords\"}], \"scatter\": [{\"marker\": {\"colorbar\": {\"outlinewidth\": 0, \"ticks\": \"\"}}, \"type\": \"scatter\"}], \"scatter3d\": [{\"marker\": {\"colorbar\": {\"outlinewidth\": 0, \"ticks\": \"\"}}, \"type\": \"scatter3d\"}], \"scattercarpet\": [{\"marker\": {\"colorbar\": {\"outlinewidth\": 0, \"ticks\": \"\"}}, \"type\": \"scattercarpet\"}], \"scattergeo\": [{\"marker\": {\"colorbar\": {\"outlinewidth\": 0, \"ticks\": \"\"}}, \"type\": \"scattergeo\"}], \"scattergl\": [{\"marker\": {\"colorbar\": {\"outlinewidth\": 0, \"ticks\": \"\"}}, \"type\": \"scattergl\"}], \"scattermapbox\": [{\"marker\": {\"colorbar\": {\"outlinewidth\": 0, \"ticks\": \"\"}}, \"type\": \"scattermapbox\"}], \"scatterpolar\": [{\"marker\": {\"colorbar\": {\"outlinewidth\": 0, \"ticks\": \"\"}}, \"type\": \"scatterpolar\"}], \"scatterpolargl\": [{\"marker\": {\"colorbar\": {\"outlinewidth\": 0, \"ticks\": \"\"}}, \"type\": \"scatterpolargl\"}], \"scatterternary\": [{\"marker\": {\"colorbar\": {\"outlinewidth\": 0, \"ticks\": \"\"}}, \"type\": \"scatterternary\"}], \"surface\": [{\"colorbar\": {\"outlinewidth\": 0, \"ticks\": \"\"}, \"type\": \"surface\"}], \"table\": [{\"cells\": {\"fill\": {\"color\": \"#EBF0F8\"}, \"line\": {\"color\": \"white\"}}, \"header\": {\"fill\": {\"color\": \"#C8D4E3\"}, \"line\": {\"color\": \"white\"}}, \"type\": \"table\"}]}, \"layout\": {\"annotationdefaults\": {\"arrowcolor\": \"#506784\", \"arrowhead\": 0, \"arrowwidth\": 1}, \"colorscale\": {\"diverging\": [[0, \"#8e0152\"], [0.1, \"#c51b7d\"], [0.2, \"#de77ae\"], [0.3, \"#f1b6da\"], [0.4, \"#fde0ef\"], [0.5, \"#f7f7f7\"], [0.6, \"#e6f5d0\"], [0.7, \"#b8e186\"], [0.8, \"#7fbc41\"], [0.9, \"#4d9221\"], [1, \"#276419\"]], \"sequential\": [[0.0, \"#0508b8\"], [0.0893854748603352, \"#1910d8\"], [0.1787709497206704, \"#3c19f0\"], [0.2681564245810056, \"#6b1cfb\"], [0.3575418994413408, \"#981cfd\"], [0.44692737430167595, \"#bf1cfd\"], [0.5363128491620112, \"#dd2bfd\"], [0.6256983240223464, \"#f246fe\"], [0.7150837988826816, \"#fc67fd\"], [0.8044692737430168, \"#fe88fc\"], [0.8938547486033519, \"#fea5fd\"], [0.9832402234636871, \"#febefe\"], [1.0, \"#fec3fe\"]], \"sequentialminus\": [[0.0, \"#0508b8\"], [0.0893854748603352, \"#1910d8\"], [0.1787709497206704, \"#3c19f0\"], [0.2681564245810056, \"#6b1cfb\"], [0.3575418994413408, \"#981cfd\"], [0.44692737430167595, \"#bf1cfd\"], [0.5363128491620112, \"#dd2bfd\"], [0.6256983240223464, \"#f246fe\"], [0.7150837988826816, \"#fc67fd\"], [0.8044692737430168, \"#fe88fc\"], [0.8938547486033519, \"#fea5fd\"], [0.9832402234636871, \"#febefe\"], [1.0, \"#fec3fe\"]]}, \"colorway\": [\"#636efa\", \"#EF553B\", \"#00cc96\", \"#ab63fa\", \"#19d3f3\", \"#e763fa\", \"#FECB52\", \"#FFA15A\", \"#FF6692\", \"#B6E880\"], \"font\": {\"color\": \"#2a3f5f\"}, \"geo\": {\"bgcolor\": \"white\", \"lakecolor\": \"white\", \"landcolor\": \"#E5ECF6\", \"showlakes\": true, \"showland\": true, \"subunitcolor\": \"white\"}, \"hoverlabel\": {\"align\": \"left\"}, \"hovermode\": \"closest\", \"mapbox\": {\"style\": \"light\"}, \"paper_bgcolor\": \"white\", \"plot_bgcolor\": \"#E5ECF6\", \"polar\": {\"angularaxis\": {\"gridcolor\": \"white\", \"linecolor\": \"white\", \"ticks\": \"\"}, \"bgcolor\": \"#E5ECF6\", \"radialaxis\": {\"gridcolor\": \"white\", \"linecolor\": \"white\", \"ticks\": \"\"}}, \"scene\": {\"xaxis\": {\"backgroundcolor\": \"#E5ECF6\", \"gridcolor\": \"white\", \"gridwidth\": 2, \"linecolor\": \"white\", \"showbackground\": true, \"ticks\": \"\", \"zerolinecolor\": \"white\"}, \"yaxis\": {\"backgroundcolor\": \"#E5ECF6\", \"gridcolor\": \"white\", \"gridwidth\": 2, \"linecolor\": \"white\", \"showbackground\": true, \"ticks\": \"\", \"zerolinecolor\": \"white\"}, \"zaxis\": {\"backgroundcolor\": \"#E5ECF6\", \"gridcolor\": \"white\", \"gridwidth\": 2, \"linecolor\": \"white\", \"showbackground\": true, \"ticks\": \"\", \"zerolinecolor\": \"white\"}}, \"shapedefaults\": {\"fillcolor\": \"#506784\", \"line\": {\"width\": 0}, \"opacity\": 0.4}, \"ternary\": {\"aaxis\": {\"gridcolor\": \"white\", \"linecolor\": \"white\", \"ticks\": \"\"}, \"baxis\": {\"gridcolor\": \"white\", \"linecolor\": \"white\", \"ticks\": \"\"}, \"bgcolor\": \"#E5ECF6\", \"caxis\": {\"gridcolor\": \"white\", \"linecolor\": \"white\", \"ticks\": \"\"}}, \"title\": {\"x\": 0.05}, \"xaxis\": {\"automargin\": true, \"gridcolor\": \"white\", \"linecolor\": \"white\", \"ticks\": \"\", \"zerolinecolor\": \"white\", \"zerolinewidth\": 2}, \"yaxis\": {\"automargin\": true, \"gridcolor\": \"white\", \"linecolor\": \"white\", \"ticks\": \"\", \"zerolinecolor\": \"white\", \"zerolinewidth\": 2}}}, \"xaxis\": {\"title\": {\"text\": \"Sector\"}}},\n",
       "                        {\"showLink\": false, \"linkText\": \"Export to plot.ly\", \"plotlyServerURL\": \"https://plot.ly\", \"responsive\": true}\n",
       "                    ).then(function(){\n",
       "                            \n",
       "var gd = document.getElementById('adcc17ae-33d4-4748-88a9-a0178f1866b8');\n",
       "var x = new MutationObserver(function (mutations, observer) {{\n",
       "        var display = window.getComputedStyle(gd).display;\n",
       "        if (!display || display === 'none') {{\n",
       "            console.log([gd, 'removed!']);\n",
       "            Plotly.purge(gd);\n",
       "            observer.disconnect();\n",
       "        }}\n",
       "}});\n",
       "\n",
       "// Listen for the removal of the full notebook cells\n",
       "var notebookContainer = gd.closest('#notebook-container');\n",
       "if (notebookContainer) {{\n",
       "    x.observe(notebookContainer, {childList: true});\n",
       "}}\n",
       "\n",
       "// Listen for the clearing of the current output cell\n",
       "var outputEl = gd.closest('.output');\n",
       "if (outputEl) {{\n",
       "    x.observe(outputEl, {childList: true});\n",
       "}}\n",
       "\n",
       "                        })\n",
       "                };\n",
       "                });\n",
       "            </script>\n",
       "        </div>"
      ]
     },
     "metadata": {},
     "output_type": "display_data"
    }
   ],
   "source": [
    "px.bar(data_frame=stock_list, x='Sector')"
   ]
  },
  {
   "cell_type": "code",
   "execution_count": 50,
   "metadata": {},
   "outputs": [],
   "source": [
    "telcom = stock_list[stock_list.Sector == 'Telecommunication Services']"
   ]
  },
  {
   "cell_type": "code",
   "execution_count": 37,
   "metadata": {},
   "outputs": [],
   "source": [
    "def get_data(x):\n",
    "    return quandl.get(\"WIKI/\" + x, start_date= start,end_date = end)"
   ]
  },
  {
   "cell_type": "code",
   "execution_count": 51,
   "metadata": {},
   "outputs": [
    {
     "data": {
      "text/html": [
       "<div>\n",
       "<style scoped>\n",
       "    .dataframe tbody tr th:only-of-type {\n",
       "        vertical-align: middle;\n",
       "    }\n",
       "\n",
       "    .dataframe tbody tr th {\n",
       "        vertical-align: top;\n",
       "    }\n",
       "\n",
       "    .dataframe thead th {\n",
       "        text-align: right;\n",
       "    }\n",
       "</style>\n",
       "<table border=\"1\" class=\"dataframe\">\n",
       "  <thead>\n",
       "    <tr style=\"text-align: right;\">\n",
       "      <th></th>\n",
       "      <th>Symbol</th>\n",
       "      <th>Name</th>\n",
       "      <th>Sector</th>\n",
       "    </tr>\n",
       "  </thead>\n",
       "  <tbody>\n",
       "    <tr>\n",
       "      <th>58</th>\n",
       "      <td>T</td>\n",
       "      <td>AT&amp;T Inc.</td>\n",
       "      <td>Telecommunication Services</td>\n",
       "    </tr>\n",
       "    <tr>\n",
       "      <th>100</th>\n",
       "      <td>CTL</td>\n",
       "      <td>CenturyLink Inc</td>\n",
       "      <td>Telecommunication Services</td>\n",
       "    </tr>\n",
       "    <tr>\n",
       "      <th>474</th>\n",
       "      <td>VZ</td>\n",
       "      <td>Verizon Communications</td>\n",
       "      <td>Telecommunication Services</td>\n",
       "    </tr>\n",
       "  </tbody>\n",
       "</table>\n",
       "</div>"
      ],
      "text/plain": [
       "    Symbol                    Name                      Sector\n",
       "58       T               AT&T Inc.  Telecommunication Services\n",
       "100    CTL         CenturyLink Inc  Telecommunication Services\n",
       "474     VZ  Verizon Communications  Telecommunication Services"
      ]
     },
     "execution_count": 51,
     "metadata": {},
     "output_type": "execute_result"
    }
   ],
   "source": [
    "telcom"
   ]
  },
  {
   "cell_type": "code",
   "execution_count": null,
   "metadata": {},
   "outputs": [],
   "source": []
  },
  {
   "cell_type": "code",
   "execution_count": 49,
   "metadata": {},
   "outputs": [
    {
     "data": {
      "text/html": [
       "<div>\n",
       "<style scoped>\n",
       "    .dataframe tbody tr th:only-of-type {\n",
       "        vertical-align: middle;\n",
       "    }\n",
       "\n",
       "    .dataframe tbody tr th {\n",
       "        vertical-align: top;\n",
       "    }\n",
       "\n",
       "    .dataframe thead th {\n",
       "        text-align: right;\n",
       "    }\n",
       "</style>\n",
       "<table border=\"1\" class=\"dataframe\">\n",
       "  <thead>\n",
       "    <tr style=\"text-align: right;\">\n",
       "      <th></th>\n",
       "      <th>Symbol</th>\n",
       "      <th>Name</th>\n",
       "      <th>Sector</th>\n",
       "    </tr>\n",
       "  </thead>\n",
       "  <tbody>\n",
       "    <tr>\n",
       "      <th>58</th>\n",
       "      <td>T</td>\n",
       "      <td>AT&amp;T Inc.</td>\n",
       "      <td>Telecommunication Services</td>\n",
       "    </tr>\n",
       "    <tr>\n",
       "      <th>100</th>\n",
       "      <td>CTL</td>\n",
       "      <td>CenturyLink Inc</td>\n",
       "      <td>Telecommunication Services</td>\n",
       "    </tr>\n",
       "    <tr>\n",
       "      <th>474</th>\n",
       "      <td>VZ</td>\n",
       "      <td>Verizon Communications</td>\n",
       "      <td>Telecommunication Services</td>\n",
       "    </tr>\n",
       "  </tbody>\n",
       "</table>\n",
       "</div>"
      ],
      "text/plain": [
       "    Symbol                    Name                      Sector\n",
       "58       T               AT&T Inc.  Telecommunication Services\n",
       "100    CTL         CenturyLink Inc  Telecommunication Services\n",
       "474     VZ  Verizon Communications  Telecommunication Services"
      ]
     },
     "execution_count": 49,
     "metadata": {},
     "output_type": "execute_result"
    }
   ],
   "source": []
  },
  {
   "cell_type": "code",
   "execution_count": 54,
   "metadata": {},
   "outputs": [],
   "source": [
    "telcom_data = {}\n",
    "for i in telcom['Symbol']:\n",
    "    telcom_data[i] = get_data(i)\n",
    "    "
   ]
  },
  {
   "cell_type": "code",
   "execution_count": 55,
   "metadata": {},
   "outputs": [
    {
     "data": {
      "text/plain": [
       "dict_keys(['T', 'CTL', 'VZ'])"
      ]
     },
     "execution_count": 55,
     "metadata": {},
     "output_type": "execute_result"
    }
   ],
   "source": [
    "telcom_data.keys()"
   ]
  },
  {
   "cell_type": "code",
   "execution_count": 65,
   "metadata": {},
   "outputs": [],
   "source": [
    "df = telcom_data['VZ']"
   ]
  },
  {
   "cell_type": "code",
   "execution_count": 66,
   "metadata": {},
   "outputs": [
    {
     "data": {
      "text/html": [
       "<div>\n",
       "<style scoped>\n",
       "    .dataframe tbody tr th:only-of-type {\n",
       "        vertical-align: middle;\n",
       "    }\n",
       "\n",
       "    .dataframe tbody tr th {\n",
       "        vertical-align: top;\n",
       "    }\n",
       "\n",
       "    .dataframe thead th {\n",
       "        text-align: right;\n",
       "    }\n",
       "</style>\n",
       "<table border=\"1\" class=\"dataframe\">\n",
       "  <thead>\n",
       "    <tr style=\"text-align: right;\">\n",
       "      <th></th>\n",
       "      <th>Open</th>\n",
       "      <th>High</th>\n",
       "      <th>Low</th>\n",
       "      <th>Close</th>\n",
       "      <th>Volume</th>\n",
       "      <th>Ex-Dividend</th>\n",
       "      <th>Split Ratio</th>\n",
       "      <th>Adj. Open</th>\n",
       "      <th>Adj. High</th>\n",
       "      <th>Adj. Low</th>\n",
       "      <th>Adj. Close</th>\n",
       "      <th>Adj. Volume</th>\n",
       "    </tr>\n",
       "    <tr>\n",
       "      <th>Date</th>\n",
       "      <th></th>\n",
       "      <th></th>\n",
       "      <th></th>\n",
       "      <th></th>\n",
       "      <th></th>\n",
       "      <th></th>\n",
       "      <th></th>\n",
       "      <th></th>\n",
       "      <th></th>\n",
       "      <th></th>\n",
       "      <th></th>\n",
       "      <th></th>\n",
       "    </tr>\n",
       "  </thead>\n",
       "  <tbody>\n",
       "    <tr>\n",
       "      <th>2007-01-03</th>\n",
       "      <td>37.63</td>\n",
       "      <td>38.49</td>\n",
       "      <td>37.61</td>\n",
       "      <td>37.82</td>\n",
       "      <td>21445800.0</td>\n",
       "      <td>0.000</td>\n",
       "      <td>1.0</td>\n",
       "      <td>20.654665</td>\n",
       "      <td>21.126709</td>\n",
       "      <td>20.643687</td>\n",
       "      <td>20.758954</td>\n",
       "      <td>21445800.0</td>\n",
       "    </tr>\n",
       "    <tr>\n",
       "      <th>2007-01-04</th>\n",
       "      <td>38.02</td>\n",
       "      <td>38.09</td>\n",
       "      <td>37.68</td>\n",
       "      <td>38.03</td>\n",
       "      <td>19215800.0</td>\n",
       "      <td>0.000</td>\n",
       "      <td>1.0</td>\n",
       "      <td>20.868731</td>\n",
       "      <td>20.907153</td>\n",
       "      <td>20.682109</td>\n",
       "      <td>20.874220</td>\n",
       "      <td>19215800.0</td>\n",
       "    </tr>\n",
       "    <tr>\n",
       "      <th>2007-01-05</th>\n",
       "      <td>38.03</td>\n",
       "      <td>38.06</td>\n",
       "      <td>37.32</td>\n",
       "      <td>37.38</td>\n",
       "      <td>19047000.0</td>\n",
       "      <td>0.000</td>\n",
       "      <td>1.0</td>\n",
       "      <td>20.874220</td>\n",
       "      <td>20.890687</td>\n",
       "      <td>20.484509</td>\n",
       "      <td>20.517443</td>\n",
       "      <td>19047000.0</td>\n",
       "    </tr>\n",
       "    <tr>\n",
       "      <th>2007-01-08</th>\n",
       "      <td>36.95</td>\n",
       "      <td>37.04</td>\n",
       "      <td>36.59</td>\n",
       "      <td>36.81</td>\n",
       "      <td>20370800.0</td>\n",
       "      <td>0.405</td>\n",
       "      <td>1.0</td>\n",
       "      <td>20.504566</td>\n",
       "      <td>20.554509</td>\n",
       "      <td>20.304792</td>\n",
       "      <td>20.426876</td>\n",
       "      <td>20370800.0</td>\n",
       "    </tr>\n",
       "    <tr>\n",
       "      <th>2007-01-09</th>\n",
       "      <td>36.81</td>\n",
       "      <td>37.25</td>\n",
       "      <td>36.81</td>\n",
       "      <td>36.96</td>\n",
       "      <td>16281300.0</td>\n",
       "      <td>0.000</td>\n",
       "      <td>1.0</td>\n",
       "      <td>20.426876</td>\n",
       "      <td>20.671044</td>\n",
       "      <td>20.426876</td>\n",
       "      <td>20.510115</td>\n",
       "      <td>16281300.0</td>\n",
       "    </tr>\n",
       "  </tbody>\n",
       "</table>\n",
       "</div>"
      ],
      "text/plain": [
       "             Open   High    Low  Close      Volume  Ex-Dividend  Split Ratio  \\\n",
       "Date                                                                           \n",
       "2007-01-03  37.63  38.49  37.61  37.82  21445800.0        0.000          1.0   \n",
       "2007-01-04  38.02  38.09  37.68  38.03  19215800.0        0.000          1.0   \n",
       "2007-01-05  38.03  38.06  37.32  37.38  19047000.0        0.000          1.0   \n",
       "2007-01-08  36.95  37.04  36.59  36.81  20370800.0        0.405          1.0   \n",
       "2007-01-09  36.81  37.25  36.81  36.96  16281300.0        0.000          1.0   \n",
       "\n",
       "            Adj. Open  Adj. High   Adj. Low  Adj. Close  Adj. Volume  \n",
       "Date                                                                  \n",
       "2007-01-03  20.654665  21.126709  20.643687   20.758954   21445800.0  \n",
       "2007-01-04  20.868731  20.907153  20.682109   20.874220   19215800.0  \n",
       "2007-01-05  20.874220  20.890687  20.484509   20.517443   19047000.0  \n",
       "2007-01-08  20.504566  20.554509  20.304792   20.426876   20370800.0  \n",
       "2007-01-09  20.426876  20.671044  20.426876   20.510115   16281300.0  "
      ]
     },
     "execution_count": 66,
     "metadata": {},
     "output_type": "execute_result"
    }
   ],
   "source": [
    "df.head()"
   ]
  },
  {
   "cell_type": "code",
   "execution_count": 84,
   "metadata": {
    "scrolled": true
   },
   "outputs": [],
   "source": [
    "df = telcom_data['T'][['Close']].reindex()"
   ]
  },
  {
   "cell_type": "code",
   "execution_count": 91,
   "metadata": {},
   "outputs": [],
   "source": [
    "stocks = pd.DataFrame({'ATT':telcom_data['T']['Close'],\n",
    "                      'CenturyLink':telcom_data['CTL']['Close'],\n",
    "                     'Verizon':telcom_data['VZ']['Close']})"
   ]
  },
  {
   "cell_type": "code",
   "execution_count": 92,
   "metadata": {},
   "outputs": [
    {
     "data": {
      "text/html": [
       "<div>\n",
       "<style scoped>\n",
       "    .dataframe tbody tr th:only-of-type {\n",
       "        vertical-align: middle;\n",
       "    }\n",
       "\n",
       "    .dataframe tbody tr th {\n",
       "        vertical-align: top;\n",
       "    }\n",
       "\n",
       "    .dataframe thead th {\n",
       "        text-align: right;\n",
       "    }\n",
       "</style>\n",
       "<table border=\"1\" class=\"dataframe\">\n",
       "  <thead>\n",
       "    <tr style=\"text-align: right;\">\n",
       "      <th></th>\n",
       "      <th>ATT</th>\n",
       "      <th>CenturyLink</th>\n",
       "      <th>Verizon</th>\n",
       "    </tr>\n",
       "    <tr>\n",
       "      <th>Date</th>\n",
       "      <th></th>\n",
       "      <th></th>\n",
       "      <th></th>\n",
       "    </tr>\n",
       "  </thead>\n",
       "  <tbody>\n",
       "    <tr>\n",
       "      <th>2007-01-03</th>\n",
       "      <td>34.95</td>\n",
       "      <td>43.73</td>\n",
       "      <td>37.82</td>\n",
       "    </tr>\n",
       "    <tr>\n",
       "      <th>2007-01-04</th>\n",
       "      <td>34.50</td>\n",
       "      <td>43.70</td>\n",
       "      <td>38.03</td>\n",
       "    </tr>\n",
       "    <tr>\n",
       "      <th>2007-01-05</th>\n",
       "      <td>33.96</td>\n",
       "      <td>43.65</td>\n",
       "      <td>37.38</td>\n",
       "    </tr>\n",
       "    <tr>\n",
       "      <th>2007-01-08</th>\n",
       "      <td>33.81</td>\n",
       "      <td>43.40</td>\n",
       "      <td>36.81</td>\n",
       "    </tr>\n",
       "    <tr>\n",
       "      <th>2007-01-09</th>\n",
       "      <td>33.94</td>\n",
       "      <td>43.21</td>\n",
       "      <td>36.96</td>\n",
       "    </tr>\n",
       "  </tbody>\n",
       "</table>\n",
       "</div>"
      ],
      "text/plain": [
       "              ATT  CenturyLink  Verizon\n",
       "Date                                   \n",
       "2007-01-03  34.95        43.73    37.82\n",
       "2007-01-04  34.50        43.70    38.03\n",
       "2007-01-05  33.96        43.65    37.38\n",
       "2007-01-08  33.81        43.40    36.81\n",
       "2007-01-09  33.94        43.21    36.96"
      ]
     },
     "execution_count": 92,
     "metadata": {},
     "output_type": "execute_result"
    }
   ],
   "source": [
    "stocks.head()"
   ]
  },
  {
   "cell_type": "code",
   "execution_count": 94,
   "metadata": {},
   "outputs": [
    {
     "name": "stdout",
     "output_type": "stream",
     "text": [
      "Populating the interactive namespace from numpy and matplotlib\n"
     ]
    },
    {
     "data": {
      "text/plain": [
       "<matplotlib.axes._subplots.AxesSubplot at 0x12612c0b8>"
      ]
     },
     "execution_count": 94,
     "metadata": {},
     "output_type": "execute_result"
    },
    {
     "data": {
      "image/png": "[encoded data removed]",
      "text/plain": [
       "<Figure size 1080x648 with 1 Axes>"
      ]
     },
     "metadata": {
      "needs_background": "light"
     },
     "output_type": "display_data"
    }
   ],
   "source": [
    "import matplotlib.pyplot as plt\n",
    "%matplotlib inline\n",
    "%pylab inline\n",
    "\n",
    "pylab.rcParams['figure.figsize'] = (15,9)\n",
    "stocks.plot(grid=True,title='Close Prices')"
   ]
  },
  {
   "cell_type": "code",
   "execution_count": 97,
   "metadata": {},
   "outputs": [],
   "source": [
    "dataPCh = stocks.pct_change()"
   ]
  },
  {
   "cell_type": "code",
   "execution_count": 99,
   "metadata": {},
   "outputs": [
    {
     "name": "stdout",
     "output_type": "stream",
     "text": [
      "                 ATT  CenturyLink   Verizon\n",
      "Date                                       \n",
      "2007-01-03       NaN          NaN       NaN\n",
      "2007-01-04 -0.012959    -0.000686  0.005537\n",
      "2007-01-05 -0.015776    -0.001145 -0.017240\n",
      "2007-01-08 -0.004427    -0.005744 -0.015366\n",
      "2007-01-09  0.003838    -0.004387  0.004067\n",
      "2007-01-10  0.002648     0.002542 -0.005698\n",
      "2007-01-11  0.013427     0.005984  0.009748\n",
      "2007-01-12  0.006934     0.005720  0.005911\n",
      "2007-01-16 -0.002884     0.002734 -0.004564\n",
      "2007-01-17 -0.004051    -0.010292 -0.007564\n"
     ]
    }
   ],
   "source": [
    "log_returns = np.log(1+dataPCh)\n",
    "print(log_returns.head(10))"
   ]
  },
  {
   "cell_type": "code",
   "execution_count": 112,
   "metadata": {},
   "outputs": [
    {
     "data": {
      "image/png": "[encoded data removed]",
      "text/plain": [
       "<Figure size 1080x648 with 3 Axes>"
      ]
     },
     "metadata": {
      "needs_background": "light"
     },
     "output_type": "display_data"
    }
   ],
   "source": [
    "fig, ax = plt.subplots(nrows = 3, ncols = 1)\n",
    "for row,i,color in zip(ax,log_returns.columns,['b','red','g']):\n",
    "    row.plot(log_returns[i],color)\n",
    "    row.set_title(i)\n",
    "    "
   ]
  },
  {
   "cell_type": "markdown",
   "metadata": {},
   "source": [
    "#### Let's list down our formulas\n",
    "[Wiki](https://en.wikipedia.org/wiki/Sharpe_ratio)\n",
    "\n",
    "The Sharpe ratio characterizes how well the return of an asset compensates the investor for the risk taken. When comparing two assets versus a common benchmark, the one with a higher Sharpe ratio provides better return for the same risk (or, equivalently, the same return for lower risk). However, like any other mathematical model, it relies on the data being correct. Ponzi schemes with a long duration of operation would typically provide a high Sharpe ratio when derived from reported returns, but the inputs are false. When examining the investment performance of assets with smoothing of returns (such as with-profits funds) the Sharpe ratio should be derived from the performance of the underlying assets rather than the fund returns.\n",
    "* $Sharpe = \\frac{E[R_a - R_b]}{\\sigma_a}$\n",
    "* $R_a = $  "
   ]
  },
  {
   "cell_type": "code",
   "execution_count": null,
   "metadata": {},
   "outputs": [],
   "source": []
  }
 ],
 "metadata": {
  "kernelspec": {
   "display_name": "Python 3",
   "language": "python",
   "name": "python3"
  },
  "language_info": {
   "codemirror_mode": {
    "name": "ipython",
    "version": 3
   },
   "file_extension": ".py",
   "mimetype": "text/x-python",
   "name": "python",
   "nbconvert_exporter": "python",
   "pygments_lexer": "ipython3",
   "version": "3.7.2"
  }
 },
 "nbformat": 4,
 "nbformat_minor": 2
}
