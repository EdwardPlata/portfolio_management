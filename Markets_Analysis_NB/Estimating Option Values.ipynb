{
 "cells": [
  {
   "cell_type": "code",
   "execution_count": 2,
   "metadata": {},
   "outputs": [],
   "source": [
    "import pandas as pd\n",
    "import numpy as np\n",
    "import matplotlib.pyplot as plt"
   ]
  },
  {
   "cell_type": "markdown",
   "metadata": {},
   "source": [
    "### 1. Estimating an ending price of our fictitious stock"
   ]
  },
  {
   "cell_type": "code",
   "execution_count": 3,
   "metadata": {},
   "outputs": [],
   "source": [
    "current_price=100\n",
    "volatility=  0.2\n",
    "risk_free_rate=.02\n",
    "t=21\n",
    "YEAR=252"
   ]
  },
  {
   "cell_type": "markdown",
   "metadata": {},
   "source": [
    "\n",
    "    Black-Scholes, or sometimes Black-Scholes-Merton, is a mathematical model that seeks to explain the behavior of financial derivatives, most commonly options. \n",
    "    It was proposed by Black and Scholes in 1973. It gave theoretical support for trading options to hedge positions, \n",
    "    which had been practice but lacked solid support. From the model we are able to calculate what the price of an option should be based on a number of \n",
    "\tdifferent factors. Nowadays there are numerous variations of the Black-Scholes model, each of which seeks to improve the model based on certain criteria, \n",
    "\tusually at the cost of a significant increase in complexity. This paper will focus on the original model, the basis for all other models.\n",
    "\n",
    "\t\n",
    "\n",
    "\n",
    "The Black-Scholes equation describes the price of an option over time. The derivation of this equation is complex and exceeds the scope of this paper, \n",
    "so we simply provide the equation.\n",
    "\n",
    "\\begin{equation}\n",
    "\t\\frac{\\partial \\mathrm C}{ \\partial \\mathrm t } + \\frac{1}{2}\\sigma^{2} \\mathrm S^{2} \\frac{\\partial^{2} \\mathrm C}{\\partial \\mathrm C^2}\n",
    "\t+ \\mathrm r \\mathrm S \\frac{\\partial \\mathrm C}{\\partial \\mathrm S}\\ =\n",
    "\t\\mathrm r \\mathrm C \n",
    "\t\\label{eq:1}\n",
    "\\end{equation}\n",
    "\n",
    "Notice that that equation \\eqref{eq:1} is a partial differential equation. The solution of this equation gives us the Black-Scholes formula.\n",
    "\n",
    "\n",
    "\\section{Black-Scholes formula for European option price}\n",
    "The Black-Scholes formula allows us the calculate the price of European call and put options.\n",
    "\\begin{equation}\n",
    "\t\\mathrm C(\\mathrm S,\\mathrm t)= \\mathrm N(\\mathrm d_1)\\mathrm S - \\mathrm N(\\mathrm d_2) \\mathrm K \\mathrm e^{-rt}\n",
    "\t\\label{eq:2}\n",
    "\\end{equation}\n",
    "\n",
    "\\begin{equation}\n",
    "\t\\mathrm d_1= \\frac{1}{\\sigma \\sqrt{\\mathrm t}} \\left[\\ln{\\left(\\frac{S}{K}\\right)} + t\\left(r + \\frac{\\sigma^2}{2} \\right) \\right]\n",
    "\\end{equation}\n",
    "\n",
    "\\begin{equation}\n",
    "\t\\mathrm d_2= \\frac{1}{\\sigma \\sqrt{\\mathrm t}} \\left[\\ln{\\left(\\frac{S}{K}\\right)} + t\\left(r - \\frac{\\sigma^2}{2} \\right) \\right]\n",
    "\\end{equation}\n",
    "\n",
    "\\begin{equation}\n",
    "\tN(x)=\\frac{1}{\\sqrt{2\\pi}} \\int_{-\\infty}^{x} \\mathrm e^{-\\frac{1}{2}z^2} dz\n",
    "\t\\label{eq:5}\n",
    "\\end{equation}\n",
    "\n",
    "\n",
    "\\section{Example}\n",
    "You want to buy an IBM European call option with a strike price of \\$210. The stock is currently trading at a price of \\$208.99 . You calculate the volatility of the stock to be 17\\%. \n",
    "The rate at which you can borrow and lend money is 5\\% (this is the risk-free interest rate). \n",
    "The time to maturity of the option is 77 days. What price should you pay (per share) for the option contract?\n",
    "\n",
    "$$\\mathrm d_1= \\frac{1}{0.17 \\sqrt{0.21095}} \\left[\\ln{\\left(\\frac{208.99}{210}\\right)} + 0.21095\\left(0.05 + \\frac{0.17^2}{2} \\right) \\right]=0.1123799$$\n",
    "$$\\mathrm d_2= \\frac{1}{0.17 \\sqrt{0.21095}} \\left[\\ln{\\left(\\frac{208.99}{210}\\right)} + 0.21095\\left(0.05 - \\frac{0.17^2}{2} \\right) \\right]=0.0343001$$\n",
    "\n",
    "Now that we've calculated $\\mathrm d_1$ and $\\mathrm d_2$ we will calculate $\\mathrm N(\\mathrm d_1)$ and $\\mathrm N(\\mathrm d_2)$. It should be noted that it's \n",
    "not possible to evaluate equation \\eqref{eq:5} by normal means so you must use a table or use computer software to evaluate the\n",
    "following integrals:\n",
    "\n",
    "$$N(d_1)=N(0.1123799)=\\frac{1}{\\sqrt{2\\pi}} \\int_{-\\infty}^{0.1123799} \\mathrm e^{-\\frac{1}{2}z^2} dz = 0.3516077$$\n",
    "$$N(d_2)=N(0.0343001)=\\frac{1}{\\sqrt{2\\pi}} \\int_{-\\infty}^{0.0343001} \\mathrm e^{-\\frac{1}{2}z^2} dz = 0.3135993$$\n",
    "\n",
    "Now we plug these in equation \\eqref{eq:2} to calculate the price of the call option (per share).\n",
    "\n",
    "$$\\mathrm C(208.99,0.21095)= (0.3516077)(208.99) - (0.3135993)(210) \\mathrm e^{-(0.05)(0.21095)} \\approx 2.3454$$\n",
    "\n",
    "You should pay around \\$2.35 (per share) for the options contract. As a side note, options contracts are sold in lots of 100 shares, \n",
    "so this particular contract would sell for roughly \\$235.\n",
    "\n",
    "\n",
    "\\end{document}}"
   ]
  },
  {
   "cell_type": "code",
   "execution_count": 10,
   "metadata": {},
   "outputs": [
    {
     "name": "stdout",
     "output_type": "stream",
     "text": [
      "111.66729898915501\n"
     ]
    }
   ],
   "source": [
    "fv = current_price * np.exp((risk_free_rate-0.5 * volatility**2)*t/YEAR + volatility*np.sqrt(t/YEAR)*np.random.standard_normal())\n",
    "print(fv)"
   ]
  },
  {
   "cell_type": "markdown",
   "metadata": {},
   "source": [
    "### 2. Using Monte Carlo Method to estimate Option Value"
   ]
  },
  {
   "cell_type": "code",
   "execution_count": 11,
   "metadata": {},
   "outputs": [],
   "source": [
    "def eur_call(S,K,vol,rfr,t,I):\n",
    "    year = 252\n",
    "    St = S*np.exp((rfr - 0.5 * vol**2)*t/year+vol+np.sqrt(t/year)*np.random.standard_normal())\n",
    "    values = np.maximum(St-K,0)\n",
    "    call = np.exp(-rfr*t/year)*np.mean(values)\n",
    "    return call"
   ]
  },
  {
   "cell_type": "code",
   "execution_count": 18,
   "metadata": {},
   "outputs": [
    {
     "data": {
      "text/plain": [
       "56.66668228804593"
      ]
     },
     "execution_count": 18,
     "metadata": {},
     "output_type": "execute_result"
    }
   ],
   "source": [
    "eur_call(100,100,0.2,.02,21,50000)"
   ]
  },
  {
   "cell_type": "code",
   "execution_count": null,
   "metadata": {},
   "outputs": [],
   "source": []
  }
 ],
 "metadata": {
  "kernelspec": {
   "display_name": "Python 3",
   "language": "python",
   "name": "python3"
  },
  "language_info": {
   "codemirror_mode": {
    "name": "ipython",
    "version": 3
   },
   "file_extension": ".py",
   "mimetype": "text/x-python",
   "name": "python",
   "nbconvert_exporter": "python",
   "pygments_lexer": "ipython3",
   "version": "3.7.2"
  }
 },
 "nbformat": 4,
 "nbformat_minor": 2
}
