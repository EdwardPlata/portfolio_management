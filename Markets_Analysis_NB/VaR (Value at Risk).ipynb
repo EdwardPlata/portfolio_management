{
 "cells": [
  {
   "cell_type": "code",
   "execution_count": 1,
   "metadata": {},
   "outputs": [],
   "source": [
    "import numpy as np\n",
    "import pandas as pd\n",
    "import matplotlib.pyplot as plt\n",
    "import pandas_datareader as pdr"
   ]
  },
  {
   "cell_type": "code",
   "execution_count": 15,
   "metadata": {},
   "outputs": [
    {
     "name": "stdout",
     "output_type": "stream",
     "text": [
      "At 0.95 confidence level, loss will not exceet 138,483.69\n",
      "This represents a move of 1.64 standard deviation below the expected return\n"
     ]
    }
   ],
   "source": [
    "# Caluclate Static VAR\n",
    "from scipy.stats import norm\n",
    "CL = 0.95 # Confidence level\n",
    "TRADING_DAYS = 252\n",
    "portfolio_val=950000\n",
    "volatility = 0.307\n",
    "t=21\n",
    "cutoff=norm.ppf(CL)\n",
    "VaR = portfolio_val*volatility*np.sqrt(t/TRADING_DAYS)*cutoff\n",
    "print(\"At {:.2f} confidence level, loss will not exceet {:,.2f}\".format(CL,VaR))\n",
    "print(\"This represents a move of {:.2f} standard deviation below the expected return\".format(cutoff))"
   ]
  },
  {
   "cell_type": "markdown",
   "metadata": {},
   "source": [
    "##### 2. Parameters of 1-stock portfolio to use in MC Simulation"
   ]
  },
  {
   "cell_type": "code",
   "execution_count": 16,
   "metadata": {},
   "outputs": [],
   "source": [
    "aapl = 4000\n",
    "aapl_price = pdr.get_quote_yahoo('AAPL')['price']\n",
    "aapl_value = aapl*aapl_price\n",
    "aapl_value = aapl_value.at['AAPL']\n",
    "t=21/252\n",
    "rfr=0.02\n",
    "volatility=.307\n",
    "iteration=50000"
   ]
  },
  {
   "cell_type": "code",
   "execution_count": 17,
   "metadata": {},
   "outputs": [
    {
     "data": {
      "text/plain": [
       "AAPL    316.96\n",
       "Name: price, dtype: float64"
      ]
     },
     "execution_count": 17,
     "metadata": {},
     "output_type": "execute_result"
    }
   ],
   "source": [
    "aapl_price"
   ]
  },
  {
   "cell_type": "markdown",
   "metadata": {},
   "source": [
    "#### 3. Define VaR function"
   ]
  },
  {
   "cell_type": "code",
   "execution_count": 18,
   "metadata": {},
   "outputs": [],
   "source": [
    "def VaR (pv,rfr,vol,T,iteration):\n",
    "    end=pv*np.exp((rfr-.5*vol**2)*T+\n",
    "                 vol*np.sqrt(T)*np.random.standard_normal(iteration))\n",
    "    ending_values=end-pv\n",
    "    return ending_values"
   ]
  },
  {
   "cell_type": "markdown",
   "metadata": {},
   "source": [
    "#### Run Simulation"
   ]
  },
  {
   "cell_type": "code",
   "execution_count": 19,
   "metadata": {},
   "outputs": [],
   "source": [
    "at_risk=VaR(aapl_value,rfr,volatility,t,iteration)"
   ]
  },
  {
   "cell_type": "markdown",
   "metadata": {},
   "source": [
    "#### Visualize Portfolio"
   ]
  },
  {
   "cell_type": "code",
   "execution_count": 20,
   "metadata": {},
   "outputs": [
    {
     "data": {
      "image/png": "[encoded data removed]",
      "text/plain": [
       "<Figure size 432x288 with 1 Axes>"
      ]
     },
     "metadata": {},
     "output_type": "display_data"
    }
   ],
   "source": [
    "with plt.style.context('ggplot'):\n",
    "    plt.hist(at_risk,bins=50)"
   ]
  },
  {
   "cell_type": "markdown",
   "metadata": {},
   "source": [
    "#### Numerical"
   ]
  },
  {
   "cell_type": "code",
   "execution_count": 21,
   "metadata": {},
   "outputs": [
    {
     "name": "stdout",
     "output_type": "stream",
     "text": [
      "Portfolio Value: $1,267,840\n",
      "-----------------------------------\n",
      "VaR 99% confidence level: $-237,754\n",
      "VaR 95% confidence level: $-174,094\n",
      "VaR 90% confidence level: $-138,626\n"
     ]
    }
   ],
   "source": [
    "percentile=[1,5,10]\n",
    "print(\"Portfolio Value: ${:,.0f}\".format(aapl*aapl_price[0]))\n",
    "print(\"-\"*35)\n",
    "for value in percentile:\n",
    "    print(\"VaR {:.0%} confidence level: ${:,.0f}\".format((100-value)/100,np.percentile(at_risk,value)))\n"
   ]
  },
  {
   "cell_type": "code",
   "execution_count": null,
   "metadata": {},
   "outputs": [],
   "source": []
  }
 ],
 "metadata": {
  "kernelspec": {
   "display_name": "Python 3",
   "language": "python",
   "name": "python3"
  },
  "language_info": {
   "codemirror_mode": {
    "name": "ipython",
    "version": 3
   },
   "file_extension": ".py",
   "mimetype": "text/x-python",
   "name": "python",
   "nbconvert_exporter": "python",
   "pygments_lexer": "ipython3",
   "version": "3.7.2"
  }
 },
 "nbformat": 4,
 "nbformat_minor": 2
}
